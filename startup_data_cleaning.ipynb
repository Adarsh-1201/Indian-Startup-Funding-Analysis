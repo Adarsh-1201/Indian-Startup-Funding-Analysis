{
 "cells": [
  {
   "cell_type": "markdown",
   "id": "2ae7a8c0-9604-4193-b7b4-520adbccb351",
   "metadata": {},
   "source": [
    "# Import necessary libraries"
   ]
  },
  {
   "cell_type": "code",
   "execution_count": 180,
   "id": "6bdae038-3290-4638-9252-d112c1e9910a",
   "metadata": {},
   "outputs": [],
   "source": [
    "import pandas as pd\n",
    "import re"
   ]
  },
  {
   "cell_type": "markdown",
   "id": "e40af25e-8e39-46ba-b795-f9a82a402954",
   "metadata": {},
   "source": [
    "# Load the dataset"
   ]
  },
  {
   "cell_type": "code",
   "execution_count": 181,
   "id": "05d9d043-e9bd-407a-a651-02032af27bb4",
   "metadata": {},
   "outputs": [],
   "source": [
    "raw_data = pd.read_csv('startup_funding.csv')"
   ]
  },
  {
   "cell_type": "code",
   "execution_count": 182,
   "id": "c48fd9ca-a078-458a-9e1c-f4b6f7bd0f79",
   "metadata": {},
   "outputs": [],
   "source": [
    "data = raw_data.copy()"
   ]
  },
  {
   "cell_type": "code",
   "execution_count": 183,
   "id": "fe8adeaa-8a37-4105-aa70-3064c8774667",
   "metadata": {},
   "outputs": [
    {
     "data": {
      "text/html": [
       "<div>\n",
       "<style scoped>\n",
       "    .dataframe tbody tr th:only-of-type {\n",
       "        vertical-align: middle;\n",
       "    }\n",
       "\n",
       "    .dataframe tbody tr th {\n",
       "        vertical-align: top;\n",
       "    }\n",
       "\n",
       "    .dataframe thead th {\n",
       "        text-align: right;\n",
       "    }\n",
       "</style>\n",
       "<table border=\"1\" class=\"dataframe\">\n",
       "  <thead>\n",
       "    <tr style=\"text-align: right;\">\n",
       "      <th></th>\n",
       "      <th>Sr No</th>\n",
       "      <th>Date dd/mm/yyyy</th>\n",
       "      <th>Startup Name</th>\n",
       "      <th>Industry Vertical</th>\n",
       "      <th>SubVertical</th>\n",
       "      <th>City  Location</th>\n",
       "      <th>Investors Name</th>\n",
       "      <th>InvestmentnType</th>\n",
       "      <th>Amount in USD</th>\n",
       "      <th>Remarks</th>\n",
       "    </tr>\n",
       "  </thead>\n",
       "  <tbody>\n",
       "    <tr>\n",
       "      <th>0</th>\n",
       "      <td>1</td>\n",
       "      <td>09/01/2020</td>\n",
       "      <td>BYJU’S</td>\n",
       "      <td>E-Tech</td>\n",
       "      <td>E-learning</td>\n",
       "      <td>Bengaluru</td>\n",
       "      <td>Tiger Global Management</td>\n",
       "      <td>Private Equity Round</td>\n",
       "      <td>20,00,00,000</td>\n",
       "      <td>NaN</td>\n",
       "    </tr>\n",
       "    <tr>\n",
       "      <th>1</th>\n",
       "      <td>2</td>\n",
       "      <td>13/01/2020</td>\n",
       "      <td>Shuttl</td>\n",
       "      <td>Transportation</td>\n",
       "      <td>App based shuttle service</td>\n",
       "      <td>Gurgaon</td>\n",
       "      <td>Susquehanna Growth Equity</td>\n",
       "      <td>Series C</td>\n",
       "      <td>80,48,394</td>\n",
       "      <td>NaN</td>\n",
       "    </tr>\n",
       "    <tr>\n",
       "      <th>2</th>\n",
       "      <td>3</td>\n",
       "      <td>09/01/2020</td>\n",
       "      <td>Mamaearth</td>\n",
       "      <td>E-commerce</td>\n",
       "      <td>Retailer of baby and toddler products</td>\n",
       "      <td>Bengaluru</td>\n",
       "      <td>Sequoia Capital India</td>\n",
       "      <td>Series B</td>\n",
       "      <td>1,83,58,860</td>\n",
       "      <td>NaN</td>\n",
       "    </tr>\n",
       "    <tr>\n",
       "      <th>3</th>\n",
       "      <td>4</td>\n",
       "      <td>02/01/2020</td>\n",
       "      <td>https://www.wealthbucket.in/</td>\n",
       "      <td>FinTech</td>\n",
       "      <td>Online Investment</td>\n",
       "      <td>New Delhi</td>\n",
       "      <td>Vinod Khatumal</td>\n",
       "      <td>Pre-series A</td>\n",
       "      <td>30,00,000</td>\n",
       "      <td>NaN</td>\n",
       "    </tr>\n",
       "    <tr>\n",
       "      <th>4</th>\n",
       "      <td>5</td>\n",
       "      <td>02/01/2020</td>\n",
       "      <td>Fashor</td>\n",
       "      <td>Fashion and Apparel</td>\n",
       "      <td>Embroiled Clothes For Women</td>\n",
       "      <td>Mumbai</td>\n",
       "      <td>Sprout Venture Partners</td>\n",
       "      <td>Seed Round</td>\n",
       "      <td>18,00,000</td>\n",
       "      <td>NaN</td>\n",
       "    </tr>\n",
       "  </tbody>\n",
       "</table>\n",
       "</div>"
      ],
      "text/plain": [
       "   Sr No Date dd/mm/yyyy                  Startup Name    Industry Vertical  \\\n",
       "0      1      09/01/2020                        BYJU’S               E-Tech   \n",
       "1      2      13/01/2020                        Shuttl       Transportation   \n",
       "2      3      09/01/2020                     Mamaearth           E-commerce   \n",
       "3      4      02/01/2020  https://www.wealthbucket.in/              FinTech   \n",
       "4      5      02/01/2020                        Fashor  Fashion and Apparel   \n",
       "\n",
       "                             SubVertical City  Location  \\\n",
       "0                             E-learning      Bengaluru   \n",
       "1              App based shuttle service        Gurgaon   \n",
       "2  Retailer of baby and toddler products      Bengaluru   \n",
       "3                      Online Investment      New Delhi   \n",
       "4            Embroiled Clothes For Women         Mumbai   \n",
       "\n",
       "              Investors Name       InvestmentnType Amount in USD Remarks  \n",
       "0    Tiger Global Management  Private Equity Round  20,00,00,000     NaN  \n",
       "1  Susquehanna Growth Equity              Series C     80,48,394     NaN  \n",
       "2      Sequoia Capital India              Series B   1,83,58,860     NaN  \n",
       "3             Vinod Khatumal          Pre-series A     30,00,000     NaN  \n",
       "4    Sprout Venture Partners            Seed Round     18,00,000     NaN  "
      ]
     },
     "execution_count": 183,
     "metadata": {},
     "output_type": "execute_result"
    }
   ],
   "source": [
    "data.head()"
   ]
  },
  {
   "cell_type": "code",
   "execution_count": 184,
   "id": "db34c592-6b8b-4ee0-8153-c5e3959dce0b",
   "metadata": {},
   "outputs": [
    {
     "name": "stdout",
     "output_type": "stream",
     "text": [
      "Sr No                   0\n",
      "Date dd/mm/yyyy         0\n",
      "Startup Name            0\n",
      "Industry Vertical     171\n",
      "SubVertical           936\n",
      "City  Location        180\n",
      "Investors Name         24\n",
      "InvestmentnType         4\n",
      "Amount in USD         960\n",
      "Remarks              2625\n",
      "dtype: int64\n"
     ]
    }
   ],
   "source": [
    "print(data.isnull().sum())"
   ]
  },
  {
   "cell_type": "markdown",
   "id": "dc48a216-c077-468b-bb94-4bd8fc4b3075",
   "metadata": {},
   "source": [
    "# Rename Columns"
   ]
  },
  {
   "cell_type": "code",
   "execution_count": 185,
   "id": "1b5b9325-9f0d-497e-a18f-7c8f8d4919f0",
   "metadata": {},
   "outputs": [],
   "source": [
    "data.rename(columns={\n",
    "    'Sr No': 'S.No',\n",
    "    'Date dd/mm/yyyy': 'Incorporation Date',\n",
    "    'SubVertical': 'Sub-Vertical',\n",
    "    'City  Location': 'Location',\n",
    "    'InvestmentnType': 'Investment Type',\n",
    "    'Amount in USD': 'Total Funding (USD)'\n",
    "}, inplace=True)"
   ]
  },
  {
   "cell_type": "markdown",
   "id": "a8fffbe8-286a-4fe5-a189-256a43e3b2b2",
   "metadata": {},
   "source": [
    "# Handle missing values"
   ]
  },
  {
   "cell_type": "code",
   "execution_count": 186,
   "id": "aca6e3cd-5c0c-43fc-a54b-51c9b42dd618",
   "metadata": {},
   "outputs": [],
   "source": [
    "data = data.fillna({\n",
    "    'Startup Name': 'Unknown',\n",
    "    'Industry Vertical': 'Unknown',\n",
    "    'Sub-Vertical': 'Not Specified',\n",
    "    'Location': 'Unknown',\n",
    "    'Investment Type': 'Unknown',\n",
    "    'Amount in USD': 'Not Specified',\n",
    "    'Remarks': 'Not Specified'\n",
    "})"
   ]
  },
  {
   "cell_type": "code",
   "execution_count": 187,
   "id": "4cd88bc6-6aad-45aa-b543-e010f23e6fad",
   "metadata": {},
   "outputs": [
    {
     "data": {
      "text/html": [
       "<div>\n",
       "<style scoped>\n",
       "    .dataframe tbody tr th:only-of-type {\n",
       "        vertical-align: middle;\n",
       "    }\n",
       "\n",
       "    .dataframe tbody tr th {\n",
       "        vertical-align: top;\n",
       "    }\n",
       "\n",
       "    .dataframe thead th {\n",
       "        text-align: right;\n",
       "    }\n",
       "</style>\n",
       "<table border=\"1\" class=\"dataframe\">\n",
       "  <thead>\n",
       "    <tr style=\"text-align: right;\">\n",
       "      <th></th>\n",
       "      <th>S.No</th>\n",
       "      <th>Incorporation Date</th>\n",
       "      <th>Startup Name</th>\n",
       "      <th>Industry Vertical</th>\n",
       "      <th>Sub-Vertical</th>\n",
       "      <th>Location</th>\n",
       "      <th>Investors Name</th>\n",
       "      <th>Investment Type</th>\n",
       "      <th>Total Funding (USD)</th>\n",
       "      <th>Remarks</th>\n",
       "    </tr>\n",
       "  </thead>\n",
       "  <tbody>\n",
       "    <tr>\n",
       "      <th>0</th>\n",
       "      <td>1</td>\n",
       "      <td>09/01/2020</td>\n",
       "      <td>BYJU’S</td>\n",
       "      <td>E-Tech</td>\n",
       "      <td>E-learning</td>\n",
       "      <td>Bengaluru</td>\n",
       "      <td>Tiger Global Management</td>\n",
       "      <td>Private Equity Round</td>\n",
       "      <td>20,00,00,000</td>\n",
       "      <td>Not Specified</td>\n",
       "    </tr>\n",
       "    <tr>\n",
       "      <th>1</th>\n",
       "      <td>2</td>\n",
       "      <td>13/01/2020</td>\n",
       "      <td>Shuttl</td>\n",
       "      <td>Transportation</td>\n",
       "      <td>App based shuttle service</td>\n",
       "      <td>Gurgaon</td>\n",
       "      <td>Susquehanna Growth Equity</td>\n",
       "      <td>Series C</td>\n",
       "      <td>80,48,394</td>\n",
       "      <td>Not Specified</td>\n",
       "    </tr>\n",
       "    <tr>\n",
       "      <th>2</th>\n",
       "      <td>3</td>\n",
       "      <td>09/01/2020</td>\n",
       "      <td>Mamaearth</td>\n",
       "      <td>E-commerce</td>\n",
       "      <td>Retailer of baby and toddler products</td>\n",
       "      <td>Bengaluru</td>\n",
       "      <td>Sequoia Capital India</td>\n",
       "      <td>Series B</td>\n",
       "      <td>1,83,58,860</td>\n",
       "      <td>Not Specified</td>\n",
       "    </tr>\n",
       "    <tr>\n",
       "      <th>3</th>\n",
       "      <td>4</td>\n",
       "      <td>02/01/2020</td>\n",
       "      <td>https://www.wealthbucket.in/</td>\n",
       "      <td>FinTech</td>\n",
       "      <td>Online Investment</td>\n",
       "      <td>New Delhi</td>\n",
       "      <td>Vinod Khatumal</td>\n",
       "      <td>Pre-series A</td>\n",
       "      <td>30,00,000</td>\n",
       "      <td>Not Specified</td>\n",
       "    </tr>\n",
       "    <tr>\n",
       "      <th>4</th>\n",
       "      <td>5</td>\n",
       "      <td>02/01/2020</td>\n",
       "      <td>Fashor</td>\n",
       "      <td>Fashion and Apparel</td>\n",
       "      <td>Embroiled Clothes For Women</td>\n",
       "      <td>Mumbai</td>\n",
       "      <td>Sprout Venture Partners</td>\n",
       "      <td>Seed Round</td>\n",
       "      <td>18,00,000</td>\n",
       "      <td>Not Specified</td>\n",
       "    </tr>\n",
       "  </tbody>\n",
       "</table>\n",
       "</div>"
      ],
      "text/plain": [
       "   S.No Incorporation Date                  Startup Name    Industry Vertical  \\\n",
       "0     1         09/01/2020                        BYJU’S               E-Tech   \n",
       "1     2         13/01/2020                        Shuttl       Transportation   \n",
       "2     3         09/01/2020                     Mamaearth           E-commerce   \n",
       "3     4         02/01/2020  https://www.wealthbucket.in/              FinTech   \n",
       "4     5         02/01/2020                        Fashor  Fashion and Apparel   \n",
       "\n",
       "                            Sub-Vertical   Location  \\\n",
       "0                             E-learning  Bengaluru   \n",
       "1              App based shuttle service    Gurgaon   \n",
       "2  Retailer of baby and toddler products  Bengaluru   \n",
       "3                      Online Investment  New Delhi   \n",
       "4            Embroiled Clothes For Women     Mumbai   \n",
       "\n",
       "              Investors Name       Investment Type Total Funding (USD)  \\\n",
       "0    Tiger Global Management  Private Equity Round        20,00,00,000   \n",
       "1  Susquehanna Growth Equity              Series C           80,48,394   \n",
       "2      Sequoia Capital India              Series B         1,83,58,860   \n",
       "3             Vinod Khatumal          Pre-series A           30,00,000   \n",
       "4    Sprout Venture Partners            Seed Round           18,00,000   \n",
       "\n",
       "         Remarks  \n",
       "0  Not Specified  \n",
       "1  Not Specified  \n",
       "2  Not Specified  \n",
       "3  Not Specified  \n",
       "4  Not Specified  "
      ]
     },
     "execution_count": 187,
     "metadata": {},
     "output_type": "execute_result"
    }
   ],
   "source": [
    "data.head()"
   ]
  },
  {
   "cell_type": "markdown",
   "id": "3ee287c5-68a8-4c45-8cf4-e290aa4ad346",
   "metadata": {},
   "source": [
    "# General text cleaning in Dataset"
   ]
  },
  {
   "cell_type": "code",
   "execution_count": 188,
   "id": "92ca76d9-3281-4320-93e2-58d009033173",
   "metadata": {},
   "outputs": [],
   "source": [
    "def clean_text(text):\n",
    "    if isinstance(text, str):\n",
    "        text = text.encode('ascii', 'ignore').decode('ascii')\n",
    "        text = re.sub(r'\\\\x[a-fA-F0-9]{2}', '', text)\n",
    "        text = re.sub(r'[\\n\\t\\\\]', ' ', text)\n",
    "        return text.strip()\n",
    "    return text"
   ]
  },
  {
   "cell_type": "markdown",
   "id": "d0c293d5-afa7-4afb-8e61-0f7264431181",
   "metadata": {},
   "source": [
    "### Clean Startup Name Column"
   ]
  },
  {
   "cell_type": "code",
   "execution_count": 189,
   "id": "25dacd5e-e659-4815-b80d-d5138a242e77",
   "metadata": {},
   "outputs": [],
   "source": [
    "def clean_startup_name(name):\n",
    "    if isinstance(name, str):\n",
    "        name = name.encode('ascii', 'ignore').decode('ascii')\n",
    "        name = re.sub(r'\\\\x[a-fA-F0-9]{2}', '', name)\n",
    "        name = re.sub(r'[\\n\\t\\\\]', ' ', name)\n",
    "        name = re.sub(r'https?://(www\\.)?', '', name, flags=re.IGNORECASE)\n",
    "        name = re.sub(r'\\.com|\\.in', '', name, flags=re.IGNORECASE)\n",
    "        name = name.rstrip('/')\n",
    "        return name.strip()\n",
    "    return name\n",
    "\n",
    "data['Startup Name'] = data['Startup Name'].apply(clean_startup_name)"
   ]
  },
  {
   "cell_type": "markdown",
   "id": "5783f9b1-0c2d-41f4-b291-eb97cebefa36",
   "metadata": {},
   "source": [
    "### Clean Industry Vertical Column"
   ]
  },
  {
   "cell_type": "code",
   "execution_count": 190,
   "id": "cefa12a6-b8de-4aa4-99b0-c454dcd5c29e",
   "metadata": {},
   "outputs": [],
   "source": [
    "data['Industry Vertical'] = data['Industry Vertical'].apply(clean_text)"
   ]
  },
  {
   "cell_type": "markdown",
   "id": "fe27b08b-4630-4830-bac3-7fdd413c8583",
   "metadata": {},
   "source": [
    "### Clean Sub-Vertical Column"
   ]
  },
  {
   "cell_type": "code",
   "execution_count": 191,
   "id": "f46024d3-1fcd-49a5-bda5-4c9382d0ff79",
   "metadata": {},
   "outputs": [],
   "source": [
    "data['Sub-Vertical'] = data['Sub-Vertical'].apply(clean_text)"
   ]
  },
  {
   "cell_type": "markdown",
   "id": "10eed81b-574b-4c3f-b817-f207e850c8b2",
   "metadata": {},
   "source": [
    "### Clean Incorporation Date Column"
   ]
  },
  {
   "cell_type": "code",
   "execution_count": 192,
   "id": "2d50b066-0f2e-4565-b92c-f03d1e10c09e",
   "metadata": {},
   "outputs": [],
   "source": [
    "def clean_dates(date):\n",
    "    try:\n",
    "        parsed_date = pd.to_datetime(date, errors='raise', dayfirst=True)\n",
    "        return parsed_date.strftime('%d-%m-%Y')\n",
    "    except Exception:\n",
    "        return 'Unknown'\n",
    "\n",
    "data['Incorporation Date'] = data['Incorporation Date'].apply(clean_dates)"
   ]
  },
  {
   "cell_type": "markdown",
   "id": "4114bca3-f955-4311-b623-d5567768144e",
   "metadata": {},
   "source": [
    "### Clean and modify Location Column"
   ]
  },
  {
   "cell_type": "code",
   "execution_count": 193,
   "id": "174e99ba-b635-4a25-a8a8-e96e22fa6dc3",
   "metadata": {},
   "outputs": [],
   "source": [
    "data['Location'] = data['Location'].apply(clean_text)\n",
    "\n",
    "city_mapping = {\n",
    "    'Bangalore': 'Bengaluru',\n",
    "    'Bengaluru': 'Bengaluru',\n",
    "    'New Delhi': 'Delhi',\n",
    "    'Delhi': 'Delhi',\n",
    "    'Gurgaon': 'Gurugram',\n",
    "    'Gurugram': 'Gurugram',\n",
    "    'Ahemdabad': 'Ahmedabad',\n",
    "    'Ahemadabad': 'Ahmedabad',\n",
    "    'Bombay': 'Mumbai',\n",
    "    'Calcutta': 'Kolkata',\n",
    "}\n",
    "\n",
    "data['Location'] = data['Location'].replace(city_mapping)\n",
    "\n",
    "indian_locations_only = [\n",
    "    'Bengaluru', 'Mumbai', 'Ahmedabad', 'Chennai', 'Pune', 'Kolkata', 'Surat', 'Hyderabad', 'Jaipur',\n",
    "    'Indore', 'Delhi', 'Nagpur', 'Vadodara', 'Gurugram', 'Noida', 'Amritsar', 'Coimbatore', 'Bhopal', \n",
    "    'Goa', 'Lucknow', 'Kanpur', 'Trivandrum', 'Siliguri', 'Varanasi', 'Jodhpur', 'Gaya', 'Udupi', 'Hubli', \n",
    "    'Kochi', 'Thiruvananthapuram', 'Udaipur', 'Rourkela', 'Bhubaneswar', 'Chandigarh', 'Agra', 'Belgaum', \n",
    "    'Karur', 'Kozhikode', 'Gwalior', 'Faridabad', 'Panaji', 'Mysore'\n",
    "]\n",
    "\n",
    "data = data[data['Location'].isin(indian_locations_only)]"
   ]
  },
  {
   "cell_type": "markdown",
   "id": "a13d792b-3d36-4fa6-afa6-2af979bc3f56",
   "metadata": {},
   "source": [
    "### Clean Investors Name Column"
   ]
  },
  {
   "cell_type": "code",
   "execution_count": 194,
   "id": "7c8183e8-0c07-475a-8491-56b6d74416be",
   "metadata": {},
   "outputs": [],
   "source": [
    "data['Investors Name'] = data['Investors Name'].apply(clean_text)"
   ]
  },
  {
   "cell_type": "markdown",
   "id": "1a7d2105-2f33-4e3c-bf00-d6a4b9b73d20",
   "metadata": {},
   "source": [
    "### Clean Investment Type Column"
   ]
  },
  {
   "cell_type": "code",
   "execution_count": 195,
   "id": "a34da042-c825-4584-bc13-cf78a81d7cfe",
   "metadata": {},
   "outputs": [],
   "source": [
    "data['Investment Type'] = data['Investment Type'].apply(clean_text)"
   ]
  },
  {
   "cell_type": "markdown",
   "id": "979cb280-d6aa-4d52-88e6-70927f386614",
   "metadata": {},
   "source": [
    "### Clean Total Funding (USD) Column"
   ]
  },
  {
   "cell_type": "code",
   "execution_count": 196,
   "id": "d3f106f2-4583-47e8-be2c-54bdbc469781",
   "metadata": {},
   "outputs": [],
   "source": [
    "def clean_funding(funding):\n",
    "    if isinstance(funding, str):\n",
    "        funding = funding.replace('+', '').replace(',', '')\n",
    "        if funding.isdigit():\n",
    "            return int(funding)\n",
    "        return 'Not Specified'\n",
    "    return funding\n",
    "\n",
    "data.loc['Total Funding (USD)'] = data['Total Funding (USD)'].apply(clean_funding)"
   ]
  },
  {
   "cell_type": "markdown",
   "id": "3f13c6db-1553-45a7-b354-d75e5e342607",
   "metadata": {},
   "source": [
    "### Drop Remarks Column"
   ]
  },
  {
   "cell_type": "code",
   "execution_count": 197,
   "id": "7f7b4df5-dacb-48f1-b3ef-f860edd00c9f",
   "metadata": {},
   "outputs": [],
   "source": [
    "data = data.drop(columns=['Remarks'])"
   ]
  },
  {
   "cell_type": "code",
   "execution_count": 198,
   "id": "04d49e04-420f-4799-8c02-b39b272d0611",
   "metadata": {},
   "outputs": [
    {
     "data": {
      "text/html": [
       "<div>\n",
       "<style scoped>\n",
       "    .dataframe tbody tr th:only-of-type {\n",
       "        vertical-align: middle;\n",
       "    }\n",
       "\n",
       "    .dataframe tbody tr th {\n",
       "        vertical-align: top;\n",
       "    }\n",
       "\n",
       "    .dataframe thead th {\n",
       "        text-align: right;\n",
       "    }\n",
       "</style>\n",
       "<table border=\"1\" class=\"dataframe\">\n",
       "  <thead>\n",
       "    <tr style=\"text-align: right;\">\n",
       "      <th></th>\n",
       "      <th>S.No</th>\n",
       "      <th>Incorporation Date</th>\n",
       "      <th>Startup Name</th>\n",
       "      <th>Industry Vertical</th>\n",
       "      <th>Sub-Vertical</th>\n",
       "      <th>Location</th>\n",
       "      <th>Investors Name</th>\n",
       "      <th>Investment Type</th>\n",
       "      <th>Total Funding (USD)</th>\n",
       "    </tr>\n",
       "  </thead>\n",
       "  <tbody>\n",
       "    <tr>\n",
       "      <th>0</th>\n",
       "      <td>1.0</td>\n",
       "      <td>09-01-2020</td>\n",
       "      <td>BYJUS</td>\n",
       "      <td>E-Tech</td>\n",
       "      <td>E-learning</td>\n",
       "      <td>Bengaluru</td>\n",
       "      <td>Tiger Global Management</td>\n",
       "      <td>Private Equity Round</td>\n",
       "      <td>20,00,00,000</td>\n",
       "    </tr>\n",
       "    <tr>\n",
       "      <th>1</th>\n",
       "      <td>2.0</td>\n",
       "      <td>13-01-2020</td>\n",
       "      <td>Shuttl</td>\n",
       "      <td>Transportation</td>\n",
       "      <td>App based shuttle service</td>\n",
       "      <td>Gurugram</td>\n",
       "      <td>Susquehanna Growth Equity</td>\n",
       "      <td>Series C</td>\n",
       "      <td>80,48,394</td>\n",
       "    </tr>\n",
       "    <tr>\n",
       "      <th>2</th>\n",
       "      <td>3.0</td>\n",
       "      <td>09-01-2020</td>\n",
       "      <td>Mamaearth</td>\n",
       "      <td>E-commerce</td>\n",
       "      <td>Retailer of baby and toddler products</td>\n",
       "      <td>Bengaluru</td>\n",
       "      <td>Sequoia Capital India</td>\n",
       "      <td>Series B</td>\n",
       "      <td>1,83,58,860</td>\n",
       "    </tr>\n",
       "    <tr>\n",
       "      <th>3</th>\n",
       "      <td>4.0</td>\n",
       "      <td>02-01-2020</td>\n",
       "      <td>wealthbucket</td>\n",
       "      <td>FinTech</td>\n",
       "      <td>Online Investment</td>\n",
       "      <td>Delhi</td>\n",
       "      <td>Vinod Khatumal</td>\n",
       "      <td>Pre-series A</td>\n",
       "      <td>30,00,000</td>\n",
       "    </tr>\n",
       "    <tr>\n",
       "      <th>4</th>\n",
       "      <td>5.0</td>\n",
       "      <td>02-01-2020</td>\n",
       "      <td>Fashor</td>\n",
       "      <td>Fashion and Apparel</td>\n",
       "      <td>Embroiled Clothes For Women</td>\n",
       "      <td>Mumbai</td>\n",
       "      <td>Sprout Venture Partners</td>\n",
       "      <td>Seed Round</td>\n",
       "      <td>18,00,000</td>\n",
       "    </tr>\n",
       "  </tbody>\n",
       "</table>\n",
       "</div>"
      ],
      "text/plain": [
       "   S.No Incorporation Date  Startup Name    Industry Vertical  \\\n",
       "0   1.0         09-01-2020         BYJUS               E-Tech   \n",
       "1   2.0         13-01-2020        Shuttl       Transportation   \n",
       "2   3.0         09-01-2020     Mamaearth           E-commerce   \n",
       "3   4.0         02-01-2020  wealthbucket              FinTech   \n",
       "4   5.0         02-01-2020        Fashor  Fashion and Apparel   \n",
       "\n",
       "                            Sub-Vertical   Location  \\\n",
       "0                             E-learning  Bengaluru   \n",
       "1              App based shuttle service   Gurugram   \n",
       "2  Retailer of baby and toddler products  Bengaluru   \n",
       "3                      Online Investment      Delhi   \n",
       "4            Embroiled Clothes For Women     Mumbai   \n",
       "\n",
       "              Investors Name       Investment Type Total Funding (USD)  \n",
       "0    Tiger Global Management  Private Equity Round        20,00,00,000  \n",
       "1  Susquehanna Growth Equity              Series C           80,48,394  \n",
       "2      Sequoia Capital India              Series B         1,83,58,860  \n",
       "3             Vinod Khatumal          Pre-series A           30,00,000  \n",
       "4    Sprout Venture Partners            Seed Round           18,00,000  "
      ]
     },
     "execution_count": 198,
     "metadata": {},
     "output_type": "execute_result"
    }
   ],
   "source": [
    "data.head()"
   ]
  }
 ],
 "metadata": {
  "kernelspec": {
   "display_name": "Python 3 (ipykernel)",
   "language": "python",
   "name": "python3"
  },
  "language_info": {
   "codemirror_mode": {
    "name": "ipython",
    "version": 3
   },
   "file_extension": ".py",
   "mimetype": "text/x-python",
   "name": "python",
   "nbconvert_exporter": "python",
   "pygments_lexer": "ipython3",
   "version": "3.13.1"
  }
 },
 "nbformat": 4,
 "nbformat_minor": 5
}
